{
 "cells": [
  {
   "cell_type": "code",
   "execution_count": 1,
   "metadata": {},
   "outputs": [
    {
     "name": "stdout",
     "output_type": "stream",
     "text": [
      "   comments   name   sex\n",
      "0        20    Tom  male\n",
      "1        21   nick  male\n",
      "2        19  krish  male\n",
      "3        18   nick  male\n",
      "4         8   john  male\n"
     ]
    }
   ],
   "source": [
    "import pandas as pd \n",
    "data = {'name':['Tom', 'nick', 'krish', 'nick', 'john'],'sex':['male', 'male', 'male', 'male', 'male'], 'comments':[20, 21, 19, 18, 8]} \n",
    "\n",
    "df = pd.DataFrame(data)\n",
    "print(df)\n"
   ]
  },
  {
   "cell_type": "code",
   "execution_count": 2,
   "metadata": {},
   "outputs": [
    {
     "name": "stdout",
     "output_type": "stream",
     "text": [
      "   comments   name   sex comments_string\n",
      "0        20    Tom  male             20|\n",
      "1        21   nick  male             21|\n",
      "2        19  krish  male             19|\n",
      "3        18   nick  male             18|\n",
      "4         8   john  male              8|\n"
     ]
    }
   ],
   "source": [
    "# convert comment to string\n",
    "df['comments_string'] = df['comments'].astype(str)+'|'\n",
    "print(df)\n"
   ]
  },
  {
   "cell_type": "code",
   "execution_count": 3,
   "metadata": {},
   "outputs": [
    {
     "name": "stdout",
     "output_type": "stream",
     "text": [
      "    name   sex comments_string\n",
      "0    Tom  male             20|\n",
      "1   john  male              8|\n",
      "2  krish  male             19|\n",
      "3   nick  male          21|18|\n"
     ]
    }
   ],
   "source": [
    "# concanate comment as a long string\n",
    "df_cat = df.groupby(['name','sex'], as_index=False)['comments_string'].sum()\n",
    "print(df_cat)"
   ]
  },
  {
   "cell_type": "code",
   "execution_count": 4,
   "metadata": {},
   "outputs": [
    {
     "data": {
      "text/plain": [
       "['21', '18']"
      ]
     },
     "execution_count": 4,
     "metadata": {},
     "output_type": "execute_result"
    }
   ],
   "source": [
    "\n",
    "# show all nicks comments as a list\n",
    "df_cat[df_cat['name']=='nick']['comments_string'].values[0].split('|')[:-1]"
   ]
  },
  {
   "cell_type": "code",
   "execution_count": null,
   "metadata": {
    "collapsed": true
   },
   "outputs": [],
   "source": []
  }
 ],
 "metadata": {
  "kernelspec": {
   "display_name": "Python 2",
   "language": "python",
   "name": "python2"
  },
  "language_info": {
   "codemirror_mode": {
    "name": "ipython",
    "version": 2
   },
   "file_extension": ".py",
   "mimetype": "text/x-python",
   "name": "python",
   "nbconvert_exporter": "python",
   "pygments_lexer": "ipython2",
   "version": "2.7.14"
  }
 },
 "nbformat": 4,
 "nbformat_minor": 2
}
